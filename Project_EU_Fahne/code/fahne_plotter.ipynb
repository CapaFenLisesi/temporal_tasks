{
 "cells": [
  {
   "cell_type": "code",
   "execution_count": 156,
   "metadata": {
    "collapsed": false
   },
   "outputs": [],
   "source": [
    "import matplotlib.pyplot as plt\n",
    "from matplotlib.backends.backend_agg import FigureCanvasAgg as FigureCanvas\n",
    "from shapely.geometry import Point, MultiPoint, MultiPolygon, Polygon, LinearRing\n",
    "from descartes import PolygonPatch\n",
    "import numpy as np\n"
   ]
  },
  {
   "cell_type": "code",
   "execution_count": 157,
   "metadata": {
    "collapsed": false
   },
   "outputs": [],
   "source": [
    "def star_plotting(center, radius):\n",
    "    #http://www.mathalino.com/reviewer/plane-geometry/area-of-regular-five-pointed-star\n",
    "    r_pent = np.sin(np.pi/10)/np.sin(0.7*np.pi)*radius\n",
    "    original_dir = np.random.uniform(0, 2*np.pi)\n",
    "\n",
    "    print(original_dir)\n",
    "    angles = []\n",
    "    for i in range(10):\n",
    "        angles.append(i*2*np.pi/10+original_dir)\n",
    "    print(angles)\n",
    "    \n",
    "    points = []\n",
    "    for i in range(5):\n",
    "        points.append((radius*np.sin(angles[2*i]),\n",
    "                       radius*np.cos(angles[2*i]))\n",
    "                      )\n",
    "        points.append((r_pent*np.sin(angles[2*i+1]),\n",
    "                       r_pent*np.cos(angles[2*i+1]))\n",
    "                      )\n",
    "\n",
    "    print(points)\n",
    "    #[points]+[points[0]]\n",
    "    poly = Polygon(points)\n",
    "    return poly\n",
    "\n"
   ]
  },
  {
   "cell_type": "code",
   "execution_count": 158,
   "metadata": {
    "collapsed": false
   },
   "outputs": [
    {
     "name": "stdout",
     "output_type": "stream",
     "text": [
      "1.7764768617769657\n",
      "[1.7764768617769657, 2.4047953924949246, 3.033113923212883, 3.661432453930842, 4.2897509846488004, 4.918069515366759, 5.546388046084718, 6.174706576802676, 6.803025107520635, 7.431343638238594]\n",
      "[(0.097892222324148126, -0.020423339796408341), (0.025665034843403094, -0.028289332335529931), (0.010826609917408081, -0.099412195014979332), (-0.018973821931508209, -0.033150783079960153), (-0.091201009412253231, -0.041016775619081736), (-0.037391501693563353, 0.007801021638439631), (-0.067191933542479654, 0.074062433573458805), (-0.0041353970055131983, 0.037972079599489242), (0.049674110713176678, 0.086789876857010617), (0.034835685787181658, 0.015667014177561216)]\n"
     ]
    }
   ],
   "source": [
    "star_poly = star_plotting(0, .1)"
   ]
  },
  {
   "cell_type": "code",
   "execution_count": 159,
   "metadata": {
    "collapsed": false,
    "scrolled": false
   },
   "outputs": [
    {
     "data": {
      "image/png": "[encoded data removed]",
      "text/plain": [
       "<matplotlib.figure.Figure at 0x7f96747ebe10>"
      ]
     },
     "metadata": {},
     "output_type": "display_data"
    }
   ],
   "source": [
    "def plot_stars(stars):\n",
    "    fig = plt.figure(1, figsize=(9, 6), dpi=90)#, frameon=False)\n",
    "    canvas = FigureCanvas(fig)\n",
    "    axes = fig.add_subplot(1, 1, 1, facecolor='#003399')\n",
    "    fig.tight_layout(pad=0.)\n",
    "    axes.set_xlim([-1.5, 1.5])\n",
    "    axes.set_ylim([-1, 1])\n",
    "    axes.axes.get_xaxis().set_visible(False)\n",
    "    axes.axes.get_yaxis().set_visible(False)\n",
    "    for star_poly in stars:\n",
    "        star_patch = PolygonPatch(star_poly, color='#FFCC00')\n",
    "        axes.add_patch(star_patch)\n",
    "    return fig\n",
    "fahne = plot_stars([star_poly])\n",
    "#fig.savefig(fileName, transparent=True, bbox_inches='tight', pad_inches=0)"
   ]
  },
  {
   "cell_type": "markdown",
   "metadata": {},
   "source": []
  },
  {
   "cell_type": "code",
   "execution_count": null,
   "metadata": {
    "collapsed": false
   },
   "outputs": [],
   "source": []
  }
 ],
 "metadata": {
  "kernelspec": {
   "display_name": "Python 3",
   "language": "python",
   "name": "python3"
  },
  "language_info": {
   "codemirror_mode": {
    "name": "ipython",
    "version": 3
   },
   "file_extension": ".py",
   "mimetype": "text/x-python",
   "name": "python",
   "nbconvert_exporter": "python",
   "pygments_lexer": "ipython3",
   "version": "3.6.0"
  }
 },
 "nbformat": 4,
 "nbformat_minor": 2
}
